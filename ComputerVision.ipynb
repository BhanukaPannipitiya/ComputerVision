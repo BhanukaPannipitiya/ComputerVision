{
 "cells": [
  {
   "cell_type": "code",
   "execution_count": 9,
   "id": "33f02b58",
   "metadata": {},
   "outputs": [],
   "source": [
    "import os\n",
    "import cv2\n",
    "import numpy as np\n",
    "import matplotlib.pyplot as plt\n",
    "from sklearn.model_selection import train_test_split\n",
    "from sklearn.metrics import classification_report, confusion_matrix, ConfusionMatrixDisplay\n",
    "from tensorflow.keras.models import Sequential\n",
    "from tensorflow.keras.layers import Conv2D, MaxPooling2D, Flatten, Dense, Dropout\n",
    "from tensorflow.keras.utils import to_categorical\n",
    "from tensorflow.keras.preprocessing.image import ImageDataGenerator\n",
    "from tensorflow.keras.callbacks import EarlyStopping\n",
    "\n",
    "# Set random seed for reproducibility\n",
    "np.random.seed(42)"
   ]
  },
  {
   "cell_type": "code",
   "execution_count": null,
   "id": "3f047517",
   "metadata": {},
   "outputs": [
    {
     "ename": "ValueError",
     "evalue": "Folder not found: ./garbage_classification/biological. Ensure dataset is downloaded.",
     "output_type": "error",
     "traceback": [
      "\u001b[31m---------------------------------------------------------------------------\u001b[39m",
      "\u001b[31mValueError\u001b[39m                                Traceback (most recent call last)",
      "\u001b[36mCell\u001b[39m\u001b[36m \u001b[39m\u001b[32mIn[10]\u001b[39m\u001b[32m, line 12\u001b[39m\n\u001b[32m     10\u001b[39m folder_path = os.path.join(data_dir, folder)\n\u001b[32m     11\u001b[39m \u001b[38;5;28;01mif\u001b[39;00m \u001b[38;5;129;01mnot\u001b[39;00m os.path.exists(folder_path):\n\u001b[32m---> \u001b[39m\u001b[32m12\u001b[39m     \u001b[38;5;28;01mraise\u001b[39;00m \u001b[38;5;167;01mValueError\u001b[39;00m(\u001b[33mf\u001b[39m\u001b[33m\"\u001b[39m\u001b[33mFolder not found: \u001b[39m\u001b[38;5;132;01m{\u001b[39;00mfolder_path\u001b[38;5;132;01m}\u001b[39;00m\u001b[33m. Ensure dataset is downloaded.\u001b[39m\u001b[33m\"\u001b[39m)\n\u001b[32m     14\u001b[39m \u001b[38;5;28;01mfor\u001b[39;00m img_name \u001b[38;5;129;01min\u001b[39;00m os.listdir(folder_path)[:\u001b[32m150\u001b[39m]:  \u001b[38;5;66;03m# Limit to 150 per category for speed\u001b[39;00m\n\u001b[32m     15\u001b[39m     img_path = os.path.join(folder_path, img_name)\n",
      "\u001b[31mValueError\u001b[39m: Folder not found: ./garbage_classification/biological. Ensure dataset is downloaded."
     ]
    }
   ],
   "source": [
    "# Define categories and paths\n",
    "categories = {'organic': 'biological', 'metal': 'metal', 'plastic': 'plastic'}\n",
    "data_dir = './garbage-dataset/'  # Update if different\n",
    "img_size = (224, 224)  # Standard size for CNNs like MobileNet\n",
    "\n",
    "images = []\n",
    "labels = []\n",
    "\n",
    "for label, folder in categories.items():\n",
    "    folder_path = os.path.join(data_dir, folder)\n",
    "    if not os.path.exists(folder_path):\n",
    "        raise ValueError(f\"Folder not found: {folder_path}. Ensure dataset is downloaded.\")\n",
    "    \n",
    "    for img_name in os.listdir(folder_path)[:150]:  # Limit to 150 per category for speed\n",
    "        img_path = os.path.join(folder_path, img_name)\n",
    "        img = cv2.imread(img_path)\n",
    "        if img is not None:\n",
    "            img = cv2.resize(img, img_size)\n",
    "            images.append(img)\n",
    "            labels.append(list(categories.keys()).index(label))  # 0: organic, 1: metal, 2: plastic\n",
    "\n",
    "images = np.array(images)\n",
    "labels = np.array(labels)\n",
    "\n",
    "print(f\"Loaded {len(images)} images across {len(categories)} categories.\")"
   ]
  }
 ],
 "metadata": {
  "kernelspec": {
   "display_name": "env",
   "language": "python",
   "name": "python3"
  },
  "language_info": {
   "codemirror_mode": {
    "name": "ipython",
    "version": 3
   },
   "file_extension": ".py",
   "mimetype": "text/x-python",
   "name": "python",
   "nbconvert_exporter": "python",
   "pygments_lexer": "ipython3",
   "version": "3.11.0"
  }
 },
 "nbformat": 4,
 "nbformat_minor": 5
}
